{
 "cells": [
  {
   "cell_type": "code",
   "execution_count": null,
   "id": "c1babc67-5e31-4f85-8699-f10cc3e3b02c",
   "metadata": {},
   "outputs": [],
   "source": [
    "#!pip install azure-cosmos"
   ]
  },
  {
   "cell_type": "code",
   "execution_count": null,
   "id": "02411e76-8b8a-460e-b4f7-9b89cf29410f",
   "metadata": {},
   "outputs": [],
   "source": [
    "from azure.cosmos import CosmosClient, PartitionKey, exceptions\n",
    "import uuid\n",
    "\n",
    "# Configuration\n",
    "ENDPOINT = \"https://pvn-cosmos.documents.azure.com:443/\"\n",
    "KEY = \"tpKr6DFYfkTbrmNvH7SLWxZ7xDRqKD4wNdINoFZjGnovSlV6WunxPt4bQGsr2GgDb6vmUDDq8nKvACDbfy64KQ==;\"\n",
    "DATABASE_NAME = \"Blobdb\"\n",
    "CONTAINER_NAME = \"Users\""
   ]
  },
  {
   "cell_type": "code",
   "execution_count": null,
   "id": "47b76da6-cc5d-4ee4-a33c-bfa940b3e92c",
   "metadata": {},
   "outputs": [],
   "source": [
    "# Initialize client\n",
    "client = CosmosClient(ENDPOINT, KEY)\n",
    "database = client.get_database_client(DATABASE_NAME)\n",
    "container = database.get_container_client(CONTAINER_NAME)"
   ]
  },
  {
   "cell_type": "code",
   "execution_count": null,
   "id": "3d998bb1-0d8e-4e99-98d4-96672c18d285",
   "metadata": {},
   "outputs": [],
   "source": [
    "items = list(container.query_items(\n",
    "    query = \"SELECT c.name from c where c.userid = 'U2'\", \n",
    "    enable_cross_partition_query=True\n",
    "))"
   ]
  },
  {
   "cell_type": "code",
   "execution_count": null,
   "id": "b3d40cd0-4c72-4b0f-8de8-218d3e756a4a",
   "metadata": {},
   "outputs": [],
   "source": [
    "print(items)"
   ]
  },
  {
   "cell_type": "code",
   "execution_count": null,
   "id": "ba246979-81b3-4f45-b492-511adf3cac53",
   "metadata": {},
   "outputs": [],
   "source": [
    "container_name = \"product\"\n",
    "partition_key_path = \"/productid\""
   ]
  },
  {
   "cell_type": "code",
   "execution_count": 15,
   "id": "74cbe096-9cb4-4962-9cb7-d787841a624d",
   "metadata": {},
   "outputs": [],
   "source": [
    "from azure.cosmos import PartitionKey\n",
    "\n",
    "container = database.create_container_if_not_exists(\n",
    "    id=container_name,\n",
    "    partition_key=PartitionKey(path=partition_key_path),\n",
    "    offer_throughput=400)"
   ]
  },
  {
   "cell_type": "code",
   "execution_count": null,
   "id": "0d4531be-1b78-4d3e-87da-3e8f00150373",
   "metadata": {},
   "outputs": [],
   "source": [
    "# List all containers\n",
    "print(\"Containers in database:\")\n",
    "for container in database.list_containers():\n",
    "    print(\"-\", container['id'])"
   ]
  },
  {
   "cell_type": "code",
   "execution_count": null,
   "id": "d2dacdd2-bf90-4bb5-a333-a205555aff7e",
   "metadata": {},
   "outputs": [],
   "source": [
    "import uuid\n",
    "\n",
    "# Sample product item\n",
    "product_item = {\n",
    "    \"id\": str(uuid.uuid4()),      # unique document id\n",
    "    \"productid\": \"P1001\",         # partition key value\n",
    "    \"name\": \"Laptop\",\n",
    "    \"price\": 75000,\n",
    "    \"category\": \"Electronics\"\n",
    "}\n",
    "\n",
    "container.create_item(body=product_item)\n",
    "print(\"Inserted item:\", product_item)\n"
   ]
  },
  {
   "cell_type": "code",
   "execution_count": null,
   "id": "fd7224ca-25b8-4142-8491-dda8cc1e9c2a",
   "metadata": {},
   "outputs": [],
   "source": [
    "# Query all items\n",
    "print(\"\\nReading items in container:\")\n",
    "for item in container.read_all_items():\n",
    "    print(item)\n",
    "\n",
    "# OR Query using SQL syntax\n",
    "query = \"SELECT * FROM c WHERE c.category='Electronics'\"\n",
    "items = list(container.query_items(query=query, enable_cross_partition_query=True))\n",
    "print(\"\\nQueried items:\", items)\n"
   ]
  },
  {
   "cell_type": "code",
   "execution_count": null,
   "id": "cbab4ec1-e1b8-4a9b-aee4-c2b67ad1e60b",
   "metadata": {},
   "outputs": [],
   "source": [
    "# Let's pick an item by productid\n",
    "query = \"SELECT * FROM c WHERE c.productid='P1001'\"\n",
    "items = list(container.query_items(query=query, enable_cross_partition_query=True))\n",
    "if items:\n",
    "    item = items[0]\n",
    "    print(\"Before update:\", item)\n",
    "    \n",
    "    # Modify the item\n",
    "    item[\"price\"] = 78000\n",
    "    item[\"stock\"] = 25\n",
    "\n",
    "    # Replace the item\n",
    "    container.replace_item(item=item['id'], body=item)\n",
    "    print(\"Updated item:\", item)\n"
   ]
  },
  {
   "cell_type": "code",
   "execution_count": null,
   "id": "55ae6322-1093-4906-af63-13fb1778ab29",
   "metadata": {},
   "outputs": [],
   "source": [
    "item_id = item[\"id\"]\n",
    "partition_key = item[\"productid\"]\n",
    "\n",
    "container.delete_item(item=item_id, partition_key=partition_key)\n",
    "print(f\"Deleted item with id: {item_id}\")\n"
   ]
  },
  {
   "cell_type": "code",
   "execution_count": null,
   "id": "ee1211d4-54e1-4524-917b-87c46223dc51",
   "metadata": {},
   "outputs": [],
   "source": [
    "remaining_items = list(container.read_all_items())\n",
    "print(\"\\nRemaining items after deletion:\")\n",
    "for it in remaining_items:\n",
    "    print(it)"
   ]
  }
 ],
 "metadata": {
  "kernelspec": {
   "display_name": "Python 3 (ipykernel)",
   "language": "python",
   "name": "python3"
  },
  "language_info": {
   "codemirror_mode": {
    "name": "ipython",
    "version": 3
   },
   "file_extension": ".py",
   "mimetype": "text/x-python",
   "name": "python",
   "nbconvert_exporter": "python",
   "pygments_lexer": "ipython3",
   "version": "3.12.4"
  }
 },
 "nbformat": 4,
 "nbformat_minor": 5
}
