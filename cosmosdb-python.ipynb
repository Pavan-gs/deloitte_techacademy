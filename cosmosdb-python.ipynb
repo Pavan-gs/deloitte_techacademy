{
 "cells": [
  {
   "cell_type": "code",
   "execution_count": null,
   "id": "dd7e34dd-6139-484c-97e1-a7c259c51ef4",
   "metadata": {},
   "outputs": [],
   "source": [
    "#!pip install azure-identity azure-mgmt-cosmosdb"
   ]
  },
  {
   "cell_type": "code",
   "execution_count": null,
   "id": "dd91a4da-ad45-4b67-aa04-f0010684b112",
   "metadata": {},
   "outputs": [],
   "source": [
    "from azure.identity import DefaultAzureCredential\n",
    "from azure.mgmt.cosmosdb import CosmosDBManagementClient\n",
    "from azure.mgmt.cosmosdb.models import DatabaseAccountCreateUpdateParameters, Location"
   ]
  },
  {
   "cell_type": "code",
   "execution_count": null,
   "id": "ce292a80-5044-4410-adba-2381981745d4",
   "metadata": {},
   "outputs": [],
   "source": [
    "subscription_id = \"23d99a1f-8507-41a7-b40b-64402a51e95e\"\n",
    "resource_group = 'pvn-rg'\n",
    "account_name = \"pvn-cosmos\"\n",
    "location = \"West US 2\""
   ]
  },
  {
   "cell_type": "code",
   "execution_count": null,
   "id": "c16ccb9e-62e4-4aad-8693-b4d6ec57f363",
   "metadata": {},
   "outputs": [],
   "source": [
    "credential = DefaultAzureCredential()\n",
    "cosmos_client = CosmosDBManagementClient(credential, subscription_id)"
   ]
  },
  {
   "cell_type": "code",
   "execution_count": null,
   "id": "dbba2232-1fd5-4267-b547-2cc29c252283",
   "metadata": {},
   "outputs": [],
   "source": [
    "params = DatabaseAccountCreateUpdateParameters(location=location,\n",
    "                                               locations=[Location(location_name=location, failover_priority=0)],\n",
    "                                               kind='GlobalDocumentDB',\n",
    "                                               create_mode='Default',\n",
    "                                               enable_free_tier=True)"
   ]
  },
  {
   "cell_type": "code",
   "execution_count": null,
   "id": "b9ff2a77-3c33-4572-a450-f74e366a750a",
   "metadata": {},
   "outputs": [],
   "source": [
    "cosmos_client.database_accounts.begin_create_or_update(resource_group, account_name, params).result()\n",
    "print(\"Successfully created db account {} in resource group {}\".format(account_name, resource_group))"
   ]
  },
  {
   "cell_type": "code",
   "execution_count": null,
   "id": "9408c6d3-5d9f-40f0-9fec-e8f7752f30eb",
   "metadata": {},
   "outputs": [],
   "source": [
    "from azure.cosmos import CosmosClient, PartitionKey, exceptions\n",
    "import uuid\n",
    "\n",
    "# Configuration\n",
    "ENDPOINT = \"https://pvn-cosmos.documents.azure.com:443/\"\n",
    "KEY = \"MumQzNM2JoaBs0IrQp4UQKeEZvS5Nq3tx0wsRLy44dKOOuSkoKWMeKcd8lA6oMeEYMPHO3jPu36oACDbqzYnyw==\"\n",
    "#DATABASE_NAME = \"Blobdb\"\n",
    "#CONTAINER_NAME = \"Users\""
   ]
  },
  {
   "cell_type": "code",
   "execution_count": null,
   "id": "f20a4af6-1fa4-439a-82ac-1c2dd9a9e1ff",
   "metadata": {},
   "outputs": [],
   "source": [
    "client = CosmosClient(ENDPOINT, KEY)"
   ]
  },
  {
   "cell_type": "code",
   "execution_count": null,
   "id": "8bbee04e-ad8e-4da6-b2e5-5c0f3f05fea4",
   "metadata": {},
   "outputs": [],
   "source": [
    "'''database_name = \"blogdb\"\n",
    "database = client.create_database_if_not_exists(id=database_name)'''"
   ]
  },
  {
   "cell_type": "code",
   "execution_count": null,
   "id": "db8d123b-09c8-46da-b017-27325c08a426",
   "metadata": {},
   "outputs": [],
   "source": [
    "DATABASE_NAME=\"Blogdb\""
   ]
  },
  {
   "cell_type": "code",
   "execution_count": null,
   "id": "88b13a33-19b7-4eab-9c34-7f367aaeff99",
   "metadata": {},
   "outputs": [],
   "source": [
    "database = client.get_database_client(DATABASE_NAME)"
   ]
  },
  {
   "cell_type": "code",
   "execution_count": null,
   "id": "5275876f-bbf2-44b9-854b-0d636819b3af",
   "metadata": {},
   "outputs": [],
   "source": [
    "container_name = \"Users\"\n",
    "partition_key_path = \"/userid\""
   ]
  },
  {
   "cell_type": "code",
   "execution_count": null,
   "id": "35920416-216f-485f-b47a-3dbc605a15d1",
   "metadata": {},
   "outputs": [],
   "source": [
    "from azure.cosmos import PartitionKey\n",
    "\n",
    "container = database.create_container_if_not_exists(\n",
    "    id=container_name,\n",
    "    partition_key=PartitionKey(path=partition_key_path),\n",
    "    offer_throughput=400)"
   ]
  },
  {
   "cell_type": "code",
   "execution_count": null,
   "id": "ab1309e2-02c7-42c5-935e-83a9999384b3",
   "metadata": {},
   "outputs": [],
   "source": [
    "container_name = \"Session\"\n",
    "partition_key_path = \"/sessionid\""
   ]
  },
  {
   "cell_type": "code",
   "execution_count": null,
   "id": "c8639f74-ce43-418e-b279-7aff47b10f82",
   "metadata": {},
   "outputs": [],
   "source": [
    "container_name = \"Products\"\n",
    "partition_key_path = \"/productid\""
   ]
  },
  {
   "cell_type": "code",
   "execution_count": null,
   "id": "24b97b7a-4c4d-491a-bce3-7e9c81001012",
   "metadata": {},
   "outputs": [],
   "source": [
    "# List all containers\n",
    "print(\"Containers in database:\")\n",
    "for container in database.list_containers():\n",
    "    print(\"-\", container['id'])"
   ]
  },
  {
   "cell_type": "code",
   "execution_count": null,
   "id": "3484df22-b044-4a08-b472-4be843d5741b",
   "metadata": {},
   "outputs": [],
   "source": [
    "container = database.get_container_client(\"Products\")"
   ]
  },
  {
   "cell_type": "code",
   "execution_count": null,
   "id": "8114c04b-59f2-4d55-8b3b-18c9ba4214c2",
   "metadata": {},
   "outputs": [],
   "source": [
    "import uuid\n",
    "\n",
    "# Sample product item\n",
    "product_item = {\n",
    "    \"id\": str(uuid.uuid4()),      # unique document id\n",
    "    \"productid\": \"P1001\",         # partition key value\n",
    "    \"name\": \"Laptop\",\n",
    "    \"price\": 75000,\n",
    "    \"category\": \"Electronics\"\n",
    "}\n",
    "\n",
    "container.create_item(body=product_item)\n",
    "print(\"Inserted item:\", product_item)"
   ]
  },
  {
   "cell_type": "code",
   "execution_count": null,
   "id": "95598525-1857-462a-a627-6baa20b06282",
   "metadata": {},
   "outputs": [],
   "source": [
    "# Query all items\n",
    "print(\"\\nReading items in container:\")\n",
    "for item in container.read_all_items():\n",
    "    print(item)\n",
    "\n",
    "# OR Query using SQL syntax\n",
    "query = \"SELECT * FROM c WHERE c.category='Electronics'\"\n",
    "items = list(container.query_items(query=query, enable_cross_partition_query=True))\n",
    "print(\"\\nQueried items:\", items)"
   ]
  },
  {
   "cell_type": "code",
   "execution_count": null,
   "id": "db7aaa54-0bc5-4658-ab27-75e9bc101955",
   "metadata": {},
   "outputs": [],
   "source": [
    "# Let's pick an item by productid\n",
    "query = \"SELECT * FROM c WHERE c.productid='P1001'\"\n",
    "items = list(container.query_items(query=query, enable_cross_partition_query=True))\n",
    "if items:\n",
    "    item = items[0]\n",
    "    print(\"Before update:\", item)\n",
    "    \n",
    "    # Modify the item\n",
    "    item[\"price\"] = 78000\n",
    "    item[\"stock\"] = 25\n",
    "\n",
    "    # Replace the item\n",
    "    container.replace_item(item=item['id'], body=item)\n",
    "    print(\"Updated item:\", item)"
   ]
  },
  {
   "cell_type": "code",
   "execution_count": null,
   "id": "af56edff-8869-4697-8e63-3b42a13028d3",
   "metadata": {},
   "outputs": [],
   "source": [
    "prod_container = database.get_container_client(\"Products\")"
   ]
  },
  {
   "cell_type": "code",
   "execution_count": null,
   "id": "3d4285f0-ff65-4a3f-b2c8-05d576a4837c",
   "metadata": {},
   "outputs": [],
   "source": [
    "ses_container = database.get_container_client(\"Session\")"
   ]
  },
  {
   "cell_type": "code",
   "execution_count": null,
   "id": "e820e355-3656-45b5-8cd6-0494d80e1b31",
   "metadata": {},
   "outputs": [],
   "source": [
    "users_container = database.get_container_client(\"Users\")"
   ]
  },
  {
   "cell_type": "code",
   "execution_count": null,
   "id": "19e09da6-4106-4a14-9d4c-d8744071cdc9",
   "metadata": {},
   "outputs": [],
   "source": [
    "users=list(users_container.query_items(\n",
    "    query=\"SELECT * FROM c\",\n",
    "    enable_cross_partition_query=True))"
   ]
  },
  {
   "cell_type": "code",
   "execution_count": null,
   "id": "07024f8c-334e-4147-a4d5-91d4b1d776ee",
   "metadata": {},
   "outputs": [],
   "source": [
    "products=list(prod_container.query_items(\n",
    "    query=\"SELECT * FROM c\",\n",
    "    enable_cross_partition_query=True))"
   ]
  },
  {
   "cell_type": "code",
   "execution_count": null,
   "id": "601c0a42-f487-407a-975e-279f62dfa6e0",
   "metadata": {},
   "outputs": [],
   "source": [
    "products"
   ]
  },
  {
   "cell_type": "code",
   "execution_count": null,
   "id": "46e36a60-9501-40f8-a86a-ac079d156a1e",
   "metadata": {},
   "outputs": [],
   "source": [
    "joined_data = []\n",
    "for user in users:\n",
    "    user_products = [p for p in products if p['userid']==user[\"userid\"]]\n",
    "    joined_data.append({\"user\":user, \"products\":user_products})\n",
    "print(joined_data)"
   ]
  },
  {
   "cell_type": "code",
   "execution_count": null,
   "id": "939935ec-3a17-4b89-ad44-d6a7f5199cfe",
   "metadata": {},
   "outputs": [],
   "source": [
    "item_id = item[\"id\"]\n",
    "partition_key = item[\"productid\"]\n",
    "\n",
    "container.delete_item(item=item_id, partition_key=partition_key)\n",
    "print(f\"Deleted item with id: {item_id}\")"
   ]
  },
  {
   "cell_type": "code",
   "execution_count": null,
   "id": "88a7c22c-66f3-4119-952c-78cbe0b3be83",
   "metadata": {},
   "outputs": [],
   "source": [
    "remaining_items = list(container.read_all_items())\n",
    "print(\"\\nRemaining items after deletion:\")\n",
    "for it in remaining_items:\n",
    "    print(it)"
   ]
  },
  {
   "cell_type": "code",
   "execution_count": null,
   "id": "a5632d4e-1b4b-4a4b-aa1e-1148c3108df5",
   "metadata": {},
   "outputs": [],
   "source": [
    "cosmos_client.database_accounts.begin_delete(resource_group, account_name).wait()"
   ]
  },
  {
   "cell_type": "code",
   "execution_count": null,
   "id": "cb2b1615-41b4-4659-92de-272c50f71876",
   "metadata": {},
   "outputs": [],
   "source": []
  }
 ],
 "metadata": {
  "kernelspec": {
   "display_name": "Python 3 (ipykernel)",
   "language": "python",
   "name": "python3"
  },
  "language_info": {
   "codemirror_mode": {
    "name": "ipython",
    "version": 3
   },
   "file_extension": ".py",
   "mimetype": "text/x-python",
   "name": "python",
   "nbconvert_exporter": "python",
   "pygments_lexer": "ipython3",
   "version": "3.12.4"
  }
 },
 "nbformat": 4,
 "nbformat_minor": 5
}
